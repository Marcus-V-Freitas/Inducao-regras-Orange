{
  "nbformat": 4,
  "nbformat_minor": 0,
  "metadata": {
    "colab": {
      "name": "Indução de Regras.ipynb",
      "provenance": [],
      "collapsed_sections": [
        "3K6stUJ1Zr4N",
        "VfHzrhZWkskl"
      ]
    },
    "kernelspec": {
      "name": "python3",
      "display_name": "Python 3"
    },
    "language_info": {
      "name": "python"
    }
  },
  "cells": [
    {
      "cell_type": "markdown",
      "metadata": {
        "id": "RTYKiYRkWom1"
      },
      "source": [
        "#Indução de Regras"
      ]
    },
    {
      "cell_type": "code",
      "metadata": {
        "id": "VblbHDSBhPCS"
      },
      "source": [
        "!pip install Orange3"
      ],
      "execution_count": null,
      "outputs": []
    },
    {
      "cell_type": "code",
      "metadata": {
        "id": "NcZNMASqhZKo"
      },
      "source": [
        "import Orange"
      ],
      "execution_count": null,
      "outputs": []
    },
    {
      "cell_type": "markdown",
      "metadata": {
        "id": "3K6stUJ1Zr4N"
      },
      "source": [
        "###Base de Risco de crédito"
      ]
    },
    {
      "cell_type": "code",
      "metadata": {
        "id": "yR5Uaadohe5v"
      },
      "source": [
        "base_risco_credito=Orange.data.Table('/content/drive/MyDrive/Dataset_Excel_CSV/risco_credito_regras.csv')"
      ],
      "execution_count": null,
      "outputs": []
    },
    {
      "cell_type": "code",
      "metadata": {
        "colab": {
          "base_uri": "https://localhost:8080/"
        },
        "id": "7ke64saRhx13",
        "outputId": "4e3e9a94-3fa7-4c35-9f78-d92b2d58197e"
      },
      "source": [
        "base_risco_credito.domain #colunas"
      ],
      "execution_count": null,
      "outputs": [
        {
          "output_type": "execute_result",
          "data": {
            "text/plain": [
              "[historia, divida, garantias, renda | risco]"
            ]
          },
          "metadata": {
            "tags": []
          },
          "execution_count": 7
        }
      ]
    },
    {
      "cell_type": "code",
      "metadata": {
        "id": "WJo5ckbri7iW"
      },
      "source": [
        "cn2=Orange.classification.rules.CN2Learner()\n",
        "regras_risco_credito=cn2(base_risco_credito)"
      ],
      "execution_count": null,
      "outputs": []
    },
    {
      "cell_type": "code",
      "metadata": {
        "colab": {
          "base_uri": "https://localhost:8080/"
        },
        "id": "GpqzqkUljO84",
        "outputId": "84ead9c8-439e-454d-814d-63f0b35a3236"
      },
      "source": [
        "for regras in regras_risco_credito.rule_list:\n",
        "  print(regras)"
      ],
      "execution_count": null,
      "outputs": [
        {
          "output_type": "stream",
          "text": [
            "IF renda==0_15 THEN risco=alto \n",
            "IF historia==boa AND divida!=alta THEN risco=baixo \n",
            "IF historia==boa AND garantias!=nenhuma THEN risco=baixo \n",
            "IF historia==boa AND renda!=15_35 THEN risco=baixo \n",
            "IF historia==boa THEN risco=moderado \n",
            "IF divida==alta THEN risco=alto \n",
            "IF historia!=desconhecida THEN risco=moderado \n",
            "IF garantias==adequada THEN risco=baixo \n",
            "IF renda==15_35 THEN risco=moderado \n",
            "IF historia==desconhecida THEN risco=baixo \n",
            "IF TRUE THEN risco=alto \n"
          ],
          "name": "stdout"
        }
      ]
    },
    {
      "cell_type": "code",
      "metadata": {
        "id": "IjZQtGQbjfP2"
      },
      "source": [
        "#História boa, dívida alta, garantias nenhuma, renda > 35\n",
        "#História ruim, dívida alta, garantias adequadas, renda <15\n",
        "previsoes = regras_risco_credito([['boa','alta','nenhuma','acima_35'],['ruim','alta','adequada','0_15']])"
      ],
      "execution_count": null,
      "outputs": []
    },
    {
      "cell_type": "code",
      "metadata": {
        "colab": {
          "base_uri": "https://localhost:8080/"
        },
        "id": "y_o257fbkCgO",
        "outputId": "45449235-454d-4290-d524-750a1842a211"
      },
      "source": [
        "previsoes"
      ],
      "execution_count": null,
      "outputs": [
        {
          "output_type": "execute_result",
          "data": {
            "text/plain": [
              "array([1, 0])"
            ]
          },
          "metadata": {
            "tags": []
          },
          "execution_count": 12
        }
      ]
    },
    {
      "cell_type": "code",
      "metadata": {
        "colab": {
          "base_uri": "https://localhost:8080/"
        },
        "id": "00M3Tn8-kGlS",
        "outputId": "7a848276-b95c-4be0-8eb2-4d96860e4a63"
      },
      "source": [
        "base_risco_credito.domain.class_var.values"
      ],
      "execution_count": null,
      "outputs": [
        {
          "output_type": "execute_result",
          "data": {
            "text/plain": [
              "('alto', 'baixo', 'moderado')"
            ]
          },
          "metadata": {
            "tags": []
          },
          "execution_count": 14
        }
      ]
    },
    {
      "cell_type": "code",
      "metadata": {
        "colab": {
          "base_uri": "https://localhost:8080/"
        },
        "id": "Qp2uNjQBkQQf",
        "outputId": "b9794ab5-64e0-4646-97e0-614086b63af7"
      },
      "source": [
        "for i in previsoes:\n",
        "  print(base_risco_credito.domain.class_var.values[i])"
      ],
      "execution_count": null,
      "outputs": [
        {
          "output_type": "stream",
          "text": [
            "baixo\n",
            "alto\n"
          ],
          "name": "stdout"
        }
      ]
    },
    {
      "cell_type": "markdown",
      "metadata": {
        "id": "VfHzrhZWkskl"
      },
      "source": [
        "###Base Credit Data"
      ]
    },
    {
      "cell_type": "code",
      "metadata": {
        "id": "hexd6tFgkwmO"
      },
      "source": [
        "base_credit=Orange.data.Table('/content/drive/MyDrive/Dataset_Excel_CSV/credit_data_regras.csv')"
      ],
      "execution_count": null,
      "outputs": []
    },
    {
      "cell_type": "code",
      "metadata": {
        "colab": {
          "base_uri": "https://localhost:8080/"
        },
        "id": "MNB9K9ePlA9t",
        "outputId": "a9a325ce-ed08-4afc-dda8-5ef9b709bf22"
      },
      "source": [
        "base_credit.domain"
      ],
      "execution_count": null,
      "outputs": [
        {
          "output_type": "execute_result",
          "data": {
            "text/plain": [
              "[income, age, loan | default]"
            ]
          },
          "metadata": {
            "tags": []
          },
          "execution_count": 18
        }
      ]
    },
    {
      "cell_type": "code",
      "metadata": {
        "id": "lUqo6WZ3lTwQ"
      },
      "source": [
        "base_dividida=Orange.evaluation.testing.sample(base_credit,n=0.25)"
      ],
      "execution_count": null,
      "outputs": []
    },
    {
      "cell_type": "code",
      "metadata": {
        "colab": {
          "base_uri": "https://localhost:8080/"
        },
        "id": "cP_3OcAeljyR",
        "outputId": "f560f642-6d4e-4500-9db2-00be0fa7361b"
      },
      "source": [
        "base_dividida[0]\n",
        "base_dividida[1]\n"
      ],
      "execution_count": null,
      "outputs": [
        {
          "output_type": "execute_result",
          "data": {
            "text/plain": [
              "([[35020.5, 24.9919, 6832.8 | 1],\n",
              "  [51906, 36.573, 10235.3 | 0],\n",
              "  [50117.9, 32.8273, 3599.07 | 0],\n",
              "  [31077.9, 44.2215, 4452.33 | 0],\n",
              "  [24904.1, 57.4716, 15.4986 | 0],\n",
              "  ...\n",
              " ], [[34507.5, 38.5878, 1793.75 | 0],\n",
              "  [30037.2, 38.6849, 1247.01 | 0],\n",
              "  [38288.1, 28.7354, 1723.4 | 0],\n",
              "  [41581.9, 22.8512, 7895.11 | 1],\n",
              "  [24912.8, 49.3664, 267.696 | 0],\n",
              "  ...\n",
              " ])"
            ]
          },
          "metadata": {
            "tags": []
          },
          "execution_count": 20
        }
      ]
    },
    {
      "cell_type": "code",
      "metadata": {
        "id": "m0UunG0jlsKn"
      },
      "source": [
        "base_treinameto_credit=base_dividida[1]\n",
        "base_teste_credit=base_dividida[0]"
      ],
      "execution_count": null,
      "outputs": []
    },
    {
      "cell_type": "code",
      "metadata": {
        "colab": {
          "base_uri": "https://localhost:8080/"
        },
        "id": "qM30u3tulmXI",
        "outputId": "96c109d5-5fa0-40b8-bae3-2473df4c4602"
      },
      "source": [
        "len(base_treinameto_credit), len(base_teste_credit)"
      ],
      "execution_count": null,
      "outputs": [
        {
          "output_type": "execute_result",
          "data": {
            "text/plain": [
              "(1500, 500)"
            ]
          },
          "metadata": {
            "tags": []
          },
          "execution_count": 23
        }
      ]
    },
    {
      "cell_type": "code",
      "metadata": {
        "id": "QOdo3JS0l-WK"
      },
      "source": [
        "cn2=Orange.classification.rules.CN2Learner()\n",
        "regras_credit=cn2(base_treinameto_credit)"
      ],
      "execution_count": null,
      "outputs": []
    },
    {
      "cell_type": "code",
      "metadata": {
        "colab": {
          "base_uri": "https://localhost:8080/"
        },
        "id": "ilWnhiFgmIzU",
        "outputId": "a7e8091a-3993-4225-b3ea-88e3108cb791"
      },
      "source": [
        "for regras in regras_credit.rule_list:\n",
        "  print(regras)"
      ],
      "execution_count": null,
      "outputs": [
        {
          "output_type": "stream",
          "text": [
            "IF age>=34.9257164876908 THEN default=0 \n",
            "IF income>=69695.1504494064 THEN default=1 \n",
            "IF age>=34.915516287554105 THEN default=1 \n",
            "IF age>=34.851817262359 THEN default=0 \n",
            "IF age>=34.7514377613552 THEN default=1 \n",
            "IF age>=34.7233597366139 THEN default=0 \n",
            "IF age>=34.7009895360097 THEN default=1 \n",
            "IF loan<=2507.64970973955 AND income>=20145.9885970689 THEN default=0 \n",
            "IF loan>=7708.31562497011 AND age>=20.6656169872731 THEN default=1 \n",
            "IF income>=45360.716274008206 AND loan>=8092.982779946221 THEN default=1 \n",
            "IF income>=57596.3540980592 THEN default=0 \n",
            "IF loan>=5659.509277874139 AND loan>=6289.25607587104 THEN default=1 \n",
            "IF age>=34.669146894011604 THEN default=1 \n",
            "IF age>=34.5552007704973 THEN default=0 \n",
            "IF age>=34.4429727895185 THEN default=1 \n",
            "IF age>=33.9493660898879 THEN default=0 \n",
            "IF age>=33.656441235914805 THEN default=1 \n",
            "IF income>=50360.6787929311 THEN default=0 \n",
            "IF age>=33.4312054850161 THEN default=0 \n",
            "IF age>=33.1831062319688 THEN default=1 \n",
            "IF loan>=5521.5074051112 AND age>=33.0311115211807 THEN default=0 \n",
            "IF loan>=5521.5074051112 AND loan>=5785.88427485782 THEN default=1 \n",
            "IF age>=32.8975483207032 THEN default=1 \n",
            "IF age>=32.718134177383 THEN default=0 \n",
            "IF age>=32.6760442531668 THEN default=1 \n",
            "IF loan<=3293.25087871026 AND income>=27407.056202646298 THEN default=0 \n",
            "IF income<=32197.6207010448 AND age>=21.6304703606293 THEN default=1 \n",
            "IF income>=45971.133494749694 THEN default=0 \n",
            "IF loan>=4849.33378471958 AND loan>=5416.3577980789005 THEN default=1 \n",
            "IF income>=38129.754869733 AND income>=40496.2558229454 THEN default=0 \n",
            "IF loan>=4509.88142162832 THEN default=1 \n",
            "IF income>=33489.0398592688 THEN default=0 \n",
            "IF age>=20.9865613454022 AND age>=30.142012033611497 THEN default=1 \n",
            "IF income>=29775.1422203146 THEN default=0 \n",
            "IF income>=25833.7172260508 THEN default=1 \n",
            "IF income>=24857.6948815025 THEN default=0 \n",
            "IF income<=20943.0433274247 THEN default=1 \n",
            "IF TRUE THEN default=0 \n"
          ],
          "name": "stdout"
        }
      ]
    },
    {
      "cell_type": "code",
      "metadata": {
        "id": "_-Uaq8FmmO5-"
      },
      "source": [
        "previsoes=Orange.evaluation.testing.TestOnTestData(base_treinameto_credit,base_teste_credit,[lambda testdata: regras_credit])"
      ],
      "execution_count": null,
      "outputs": []
    },
    {
      "cell_type": "code",
      "metadata": {
        "colab": {
          "base_uri": "https://localhost:8080/"
        },
        "id": "H1mCUWmEmo7c",
        "outputId": "d3ff8e24-1745-4360-9c4c-bf2bfb31331f"
      },
      "source": [
        "Orange.evaluation.CA(previsoes)"
      ],
      "execution_count": null,
      "outputs": [
        {
          "output_type": "execute_result",
          "data": {
            "text/plain": [
              "array([0.984])"
            ]
          },
          "metadata": {
            "tags": []
          },
          "execution_count": 29
        }
      ]
    },
    {
      "cell_type": "markdown",
      "metadata": {
        "id": "wrsAuZ7tmd9B"
      },
      "source": [
        "###Base Census"
      ]
    },
    {
      "cell_type": "code",
      "metadata": {
        "id": "m0y8BCeHnHt2"
      },
      "source": [
        ""
      ],
      "execution_count": null,
      "outputs": []
    }
  ]
}